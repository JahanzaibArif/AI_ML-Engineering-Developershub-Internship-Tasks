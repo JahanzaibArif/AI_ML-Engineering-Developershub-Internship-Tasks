{
 "cells": [
  {
   "cell_type": "code",
   "execution_count": 1,
   "id": "bc99c902",
   "metadata": {
    "_cell_guid": "b1076dfc-b9ad-4769-8c92-a6c4dae69d19",
    "_uuid": "8f2839f25d086af736a60e9eeb907d3b93b6e0e5",
    "execution": {
     "iopub.execute_input": "2025-07-24T08:07:41.207953Z",
     "iopub.status.busy": "2025-07-24T08:07:41.207424Z",
     "iopub.status.idle": "2025-07-24T08:07:43.741017Z",
     "shell.execute_reply": "2025-07-24T08:07:43.739902Z"
    },
    "papermill": {
     "duration": 2.548693,
     "end_time": "2025-07-24T08:07:43.743252",
     "exception": false,
     "start_time": "2025-07-24T08:07:41.194559",
     "status": "completed"
    },
    "tags": []
   },
   "outputs": [],
   "source": [
    "# This Python 3 environment comes with many helpful analytics libraries installed\n",
    "# It is defined by the kaggle/python Docker image: https://github.com/kaggle/docker-python\n",
    "# For example, here's several helpful packages to load\n",
    "\n",
    "import numpy as np # linear algebra\n",
    "import pandas as pd # data processing, CSV file I/O (e.g. pd.read_csv)\n",
    "\n",
    "# Input data files are available in the read-only \"../input/\" directory\n",
    "# For example, running this (by clicking run or pressing Shift+Enter) will list all files under the input directory\n",
    "\n",
    "import os\n",
    "for dirname, _, filenames in os.walk('/kaggle/input'):\n",
    "    for filename in filenames:\n",
    "        print(os.path.join(dirname, filename))\n",
    "\n",
    "# You can write up to 20GB to the current directory (/kaggle/working/) that gets preserved as output when you create a version using \"Save & Run All\" \n",
    "# You can also write temporary files to /kaggle/temp/, but they won't be saved outside of the current session"
   ]
  },
  {
   "cell_type": "markdown",
   "id": "cade6079",
   "metadata": {
    "papermill": {
     "duration": 0.004033,
     "end_time": "2025-07-24T08:07:43.752160",
     "exception": false,
     "start_time": "2025-07-24T08:07:43.748127",
     "status": "completed"
    },
    "tags": []
   },
   "source": [
    "# Import Libraries"
   ]
  },
  {
   "cell_type": "code",
   "execution_count": 2,
   "id": "1f900899",
   "metadata": {
    "execution": {
     "iopub.execute_input": "2025-07-24T08:07:43.762550Z",
     "iopub.status.busy": "2025-07-24T08:07:43.762015Z",
     "iopub.status.idle": "2025-07-24T08:07:47.748557Z",
     "shell.execute_reply": "2025-07-24T08:07:47.747274Z"
    },
    "papermill": {
     "duration": 3.994043,
     "end_time": "2025-07-24T08:07:47.750611",
     "exception": false,
     "start_time": "2025-07-24T08:07:43.756568",
     "status": "completed"
    },
    "tags": []
   },
   "outputs": [],
   "source": [
    "import yfinance as yf\n",
    "import pandas as pd\n",
    "import numpy as np\n",
    "from sklearn.ensemble import RandomForestRegressor\n",
    "from sklearn.model_selection import train_test_split\n",
    "from sklearn.metrics import mean_squared_error\n",
    "import matplotlib.pyplot as plt\n",
    "from datetime import datetime, timedelta"
   ]
  },
  {
   "cell_type": "markdown",
   "id": "6f817a82",
   "metadata": {
    "papermill": {
     "duration": 0.003909,
     "end_time": "2025-07-24T08:07:47.758989",
     "exception": false,
     "start_time": "2025-07-24T08:07:47.755080",
     "status": "completed"
    },
    "tags": []
   },
   "source": [
    "# Set Seed for Reproducibility"
   ]
  },
  {
   "cell_type": "code",
   "execution_count": 3,
   "id": "132d8864",
   "metadata": {
    "execution": {
     "iopub.execute_input": "2025-07-24T08:07:47.769011Z",
     "iopub.status.busy": "2025-07-24T08:07:47.768332Z",
     "iopub.status.idle": "2025-07-24T08:07:47.773698Z",
     "shell.execute_reply": "2025-07-24T08:07:47.772728Z"
    },
    "papermill": {
     "duration": 0.012725,
     "end_time": "2025-07-24T08:07:47.775778",
     "exception": false,
     "start_time": "2025-07-24T08:07:47.763053",
     "status": "completed"
    },
    "tags": []
   },
   "outputs": [],
   "source": [
    "# Set random seed for reproducibility\n",
    "np.random.seed(42)"
   ]
  },
  {
   "cell_type": "markdown",
   "id": "958c25c5",
   "metadata": {
    "papermill": {
     "duration": 0.004225,
     "end_time": "2025-07-24T08:07:47.784868",
     "exception": false,
     "start_time": "2025-07-24T08:07:47.780643",
     "status": "completed"
    },
    "tags": []
   },
   "source": [
    "# Download Apple Stock Data for the Last Year"
   ]
  },
  {
   "cell_type": "code",
   "execution_count": 4,
   "id": "c028de6d",
   "metadata": {
    "execution": {
     "iopub.execute_input": "2025-07-24T08:07:47.797107Z",
     "iopub.status.busy": "2025-07-24T08:07:47.795734Z",
     "iopub.status.idle": "2025-07-24T08:07:48.515866Z",
     "shell.execute_reply": "2025-07-24T08:07:48.514722Z"
    },
    "papermill": {
     "duration": 0.728791,
     "end_time": "2025-07-24T08:07:48.518059",
     "exception": false,
     "start_time": "2025-07-24T08:07:47.789268",
     "status": "completed"
    },
    "tags": []
   },
   "outputs": [],
   "source": [
    "ticker = 'AAPL'\n",
    "end_date = datetime.now().strftime('%Y-%m-%d')\n",
    "start_date = (datetime.now() - timedelta(days=365)).strftime('%Y-%m-%d')\n",
    "data = yf.download(ticker, start=start_date, end=end_date, progress=False, auto_adjust=True)\n"
   ]
  },
  {
   "cell_type": "markdown",
   "id": "d85fb2c7",
   "metadata": {
    "papermill": {
     "duration": 0.003815,
     "end_time": "2025-07-24T08:07:48.526287",
     "exception": false,
     "start_time": "2025-07-24T08:07:48.522472",
     "status": "completed"
    },
    "tags": []
   },
   "source": [
    "# Feature Engineering"
   ]
  },
  {
   "cell_type": "code",
   "execution_count": 5,
   "id": "8cdc78db",
   "metadata": {
    "execution": {
     "iopub.execute_input": "2025-07-24T08:07:48.537743Z",
     "iopub.status.busy": "2025-07-24T08:07:48.537195Z",
     "iopub.status.idle": "2025-07-24T08:07:48.551518Z",
     "shell.execute_reply": "2025-07-24T08:07:48.550201Z"
    },
    "papermill": {
     "duration": 0.021996,
     "end_time": "2025-07-24T08:07:48.553624",
     "exception": false,
     "start_time": "2025-07-24T08:07:48.531628",
     "status": "completed"
    },
    "tags": []
   },
   "outputs": [],
   "source": [
    "# Prepare features and target\n",
    "data['Prev_Close'] = data['Close'].shift(1)\n",
    "data['Target'] = data['Close'].shift(-1)\n",
    "data = data.dropna()"
   ]
  },
  {
   "cell_type": "markdown",
   "id": "9485dc90",
   "metadata": {
    "papermill": {
     "duration": 0.003925,
     "end_time": "2025-07-24T08:07:48.561893",
     "exception": false,
     "start_time": "2025-07-24T08:07:48.557968",
     "status": "completed"
    },
    "tags": []
   },
   "source": [
    "# Define Features and Target Variable"
   ]
  },
  {
   "cell_type": "code",
   "execution_count": 6,
   "id": "7f809a84",
   "metadata": {
    "execution": {
     "iopub.execute_input": "2025-07-24T08:07:48.571610Z",
     "iopub.status.busy": "2025-07-24T08:07:48.571190Z",
     "iopub.status.idle": "2025-07-24T08:07:48.580038Z",
     "shell.execute_reply": "2025-07-24T08:07:48.578964Z"
    },
    "papermill": {
     "duration": 0.015772,
     "end_time": "2025-07-24T08:07:48.581712",
     "exception": false,
     "start_time": "2025-07-24T08:07:48.565940",
     "status": "completed"
    },
    "tags": []
   },
   "outputs": [],
   "source": [
    "# Define features and target\n",
    "features = ['Open', 'High', 'Low', 'Volume', 'Prev_Close']\n",
    "X = data[features]\n",
    "y = data['Target']"
   ]
  },
  {
   "cell_type": "markdown",
   "id": "473993bf",
   "metadata": {
    "papermill": {
     "duration": 0.003862,
     "end_time": "2025-07-24T08:07:48.589885",
     "exception": false,
     "start_time": "2025-07-24T08:07:48.586023",
     "status": "completed"
    },
    "tags": []
   },
   "source": [
    "# Train-Test Split"
   ]
  },
  {
   "cell_type": "code",
   "execution_count": 7,
   "id": "ad73337e",
   "metadata": {
    "execution": {
     "iopub.execute_input": "2025-07-24T08:07:48.599563Z",
     "iopub.status.busy": "2025-07-24T08:07:48.599141Z",
     "iopub.status.idle": "2025-07-24T08:07:48.607163Z",
     "shell.execute_reply": "2025-07-24T08:07:48.606103Z"
    },
    "papermill": {
     "duration": 0.015228,
     "end_time": "2025-07-24T08:07:48.609145",
     "exception": false,
     "start_time": "2025-07-24T08:07:48.593917",
     "status": "completed"
    },
    "tags": []
   },
   "outputs": [],
   "source": [
    "# Split data into training and testing sets\n",
    "X_train, X_test, y_train, y_test = train_test_split(X, y, test_size=0.2, shuffle=False)"
   ]
  },
  {
   "cell_type": "markdown",
   "id": "a05ffd73",
   "metadata": {
    "papermill": {
     "duration": 0.003842,
     "end_time": "2025-07-24T08:07:48.617293",
     "exception": false,
     "start_time": "2025-07-24T08:07:48.613451",
     "status": "completed"
    },
    "tags": []
   },
   "source": [
    "# Train a Random Forest Regressor"
   ]
  },
  {
   "cell_type": "code",
   "execution_count": 8,
   "id": "f597a88b",
   "metadata": {
    "execution": {
     "iopub.execute_input": "2025-07-24T08:07:48.628140Z",
     "iopub.status.busy": "2025-07-24T08:07:48.627284Z",
     "iopub.status.idle": "2025-07-24T08:07:48.814257Z",
     "shell.execute_reply": "2025-07-24T08:07:48.813195Z"
    },
    "papermill": {
     "duration": 0.194842,
     "end_time": "2025-07-24T08:07:48.816288",
     "exception": false,
     "start_time": "2025-07-24T08:07:48.621446",
     "status": "completed"
    },
    "tags": []
   },
   "outputs": [
    {
     "data": {
      "text/html": [
       "<style>#sk-container-id-1 {color: black;background-color: white;}#sk-container-id-1 pre{padding: 0;}#sk-container-id-1 div.sk-toggleable {background-color: white;}#sk-container-id-1 label.sk-toggleable__label {cursor: pointer;display: block;width: 100%;margin-bottom: 0;padding: 0.3em;box-sizing: border-box;text-align: center;}#sk-container-id-1 label.sk-toggleable__label-arrow:before {content: \"▸\";float: left;margin-right: 0.25em;color: #696969;}#sk-container-id-1 label.sk-toggleable__label-arrow:hover:before {color: black;}#sk-container-id-1 div.sk-estimator:hover label.sk-toggleable__label-arrow:before {color: black;}#sk-container-id-1 div.sk-toggleable__content {max-height: 0;max-width: 0;overflow: hidden;text-align: left;background-color: #f0f8ff;}#sk-container-id-1 div.sk-toggleable__content pre {margin: 0.2em;color: black;border-radius: 0.25em;background-color: #f0f8ff;}#sk-container-id-1 input.sk-toggleable__control:checked~div.sk-toggleable__content {max-height: 200px;max-width: 100%;overflow: auto;}#sk-container-id-1 input.sk-toggleable__control:checked~label.sk-toggleable__label-arrow:before {content: \"▾\";}#sk-container-id-1 div.sk-estimator input.sk-toggleable__control:checked~label.sk-toggleable__label {background-color: #d4ebff;}#sk-container-id-1 div.sk-label input.sk-toggleable__control:checked~label.sk-toggleable__label {background-color: #d4ebff;}#sk-container-id-1 input.sk-hidden--visually {border: 0;clip: rect(1px 1px 1px 1px);clip: rect(1px, 1px, 1px, 1px);height: 1px;margin: -1px;overflow: hidden;padding: 0;position: absolute;width: 1px;}#sk-container-id-1 div.sk-estimator {font-family: monospace;background-color: #f0f8ff;border: 1px dotted black;border-radius: 0.25em;box-sizing: border-box;margin-bottom: 0.5em;}#sk-container-id-1 div.sk-estimator:hover {background-color: #d4ebff;}#sk-container-id-1 div.sk-parallel-item::after {content: \"\";width: 100%;border-bottom: 1px solid gray;flex-grow: 1;}#sk-container-id-1 div.sk-label:hover label.sk-toggleable__label {background-color: #d4ebff;}#sk-container-id-1 div.sk-serial::before {content: \"\";position: absolute;border-left: 1px solid gray;box-sizing: border-box;top: 0;bottom: 0;left: 50%;z-index: 0;}#sk-container-id-1 div.sk-serial {display: flex;flex-direction: column;align-items: center;background-color: white;padding-right: 0.2em;padding-left: 0.2em;position: relative;}#sk-container-id-1 div.sk-item {position: relative;z-index: 1;}#sk-container-id-1 div.sk-parallel {display: flex;align-items: stretch;justify-content: center;background-color: white;position: relative;}#sk-container-id-1 div.sk-item::before, #sk-container-id-1 div.sk-parallel-item::before {content: \"\";position: absolute;border-left: 1px solid gray;box-sizing: border-box;top: 0;bottom: 0;left: 50%;z-index: -1;}#sk-container-id-1 div.sk-parallel-item {display: flex;flex-direction: column;z-index: 1;position: relative;background-color: white;}#sk-container-id-1 div.sk-parallel-item:first-child::after {align-self: flex-end;width: 50%;}#sk-container-id-1 div.sk-parallel-item:last-child::after {align-self: flex-start;width: 50%;}#sk-container-id-1 div.sk-parallel-item:only-child::after {width: 0;}#sk-container-id-1 div.sk-dashed-wrapped {border: 1px dashed gray;margin: 0 0.4em 0.5em 0.4em;box-sizing: border-box;padding-bottom: 0.4em;background-color: white;}#sk-container-id-1 div.sk-label label {font-family: monospace;font-weight: bold;display: inline-block;line-height: 1.2em;}#sk-container-id-1 div.sk-label-container {text-align: center;}#sk-container-id-1 div.sk-container {/* jupyter's `normalize.less` sets `[hidden] { display: none; }` but bootstrap.min.css set `[hidden] { display: none !important; }` so we also need the `!important` here to be able to override the default hidden behavior on the sphinx rendered scikit-learn.org. See: https://github.com/scikit-learn/scikit-learn/issues/21755 */display: inline-block !important;position: relative;}#sk-container-id-1 div.sk-text-repr-fallback {display: none;}</style><div id=\"sk-container-id-1\" class=\"sk-top-container\"><div class=\"sk-text-repr-fallback\"><pre>RandomForestRegressor(random_state=42)</pre><b>In a Jupyter environment, please rerun this cell to show the HTML representation or trust the notebook. <br />On GitHub, the HTML representation is unable to render, please try loading this page with nbviewer.org.</b></div><div class=\"sk-container\" hidden><div class=\"sk-item\"><div class=\"sk-estimator sk-toggleable\"><input class=\"sk-toggleable__control sk-hidden--visually\" id=\"sk-estimator-id-1\" type=\"checkbox\" checked><label for=\"sk-estimator-id-1\" class=\"sk-toggleable__label sk-toggleable__label-arrow\">RandomForestRegressor</label><div class=\"sk-toggleable__content\"><pre>RandomForestRegressor(random_state=42)</pre></div></div></div></div></div>"
      ],
      "text/plain": [
       "RandomForestRegressor(random_state=42)"
      ]
     },
     "execution_count": 8,
     "metadata": {},
     "output_type": "execute_result"
    }
   ],
   "source": [
    "# Train Random Forest model\n",
    "model = RandomForestRegressor(n_estimators=100, random_state=42)\n",
    "model.fit(X_train, y_train)"
   ]
  },
  {
   "cell_type": "markdown",
   "id": "d4db7ac9",
   "metadata": {
    "papermill": {
     "duration": 0.004135,
     "end_time": "2025-07-24T08:07:48.825354",
     "exception": false,
     "start_time": "2025-07-24T08:07:48.821219",
     "status": "completed"
    },
    "tags": []
   },
   "source": [
    "# Make Predictions & Evaluate"
   ]
  },
  {
   "cell_type": "code",
   "execution_count": 9,
   "id": "a861ed79",
   "metadata": {
    "execution": {
     "iopub.execute_input": "2025-07-24T08:07:48.835700Z",
     "iopub.status.busy": "2025-07-24T08:07:48.835322Z",
     "iopub.status.idle": "2025-07-24T08:07:48.849885Z",
     "shell.execute_reply": "2025-07-24T08:07:48.848690Z"
    },
    "papermill": {
     "duration": 0.021865,
     "end_time": "2025-07-24T08:07:48.851584",
     "exception": false,
     "start_time": "2025-07-24T08:07:48.829719",
     "status": "completed"
    },
    "tags": []
   },
   "outputs": [
    {
     "name": "stdout",
     "output_type": "stream",
     "text": [
      "Mean Squared Error: 18.84\n"
     ]
    }
   ],
   "source": [
    "# Make predictions\n",
    "y_pred = model.predict(X_test)\n",
    "\n",
    "# Calculate Mean Squared Error\n",
    "mse = mean_squared_error(y_test, y_pred)\n",
    "print(f'Mean Squared Error: {mse:.2f}')"
   ]
  },
  {
   "cell_type": "markdown",
   "id": "c96e79f7",
   "metadata": {
    "papermill": {
     "duration": 0.004076,
     "end_time": "2025-07-24T08:07:48.860251",
     "exception": false,
     "start_time": "2025-07-24T08:07:48.856175",
     "status": "completed"
    },
    "tags": []
   },
   "source": [
    "# Prepare data for plotting"
   ]
  },
  {
   "cell_type": "code",
   "execution_count": 10,
   "id": "bef59474",
   "metadata": {
    "execution": {
     "iopub.execute_input": "2025-07-24T08:07:48.870336Z",
     "iopub.status.busy": "2025-07-24T08:07:48.869973Z",
     "iopub.status.idle": "2025-07-24T08:07:48.875257Z",
     "shell.execute_reply": "2025-07-24T08:07:48.874101Z"
    },
    "papermill": {
     "duration": 0.012384,
     "end_time": "2025-07-24T08:07:48.876894",
     "exception": false,
     "start_time": "2025-07-24T08:07:48.864510",
     "status": "completed"
    },
    "tags": []
   },
   "outputs": [],
   "source": [
    "# Prepare data for plotting\n",
    "test_dates = X_test.index\n",
    "actual_prices = y_test\n",
    "predicted_prices = y_pred"
   ]
  },
  {
   "cell_type": "markdown",
   "id": "5fbc6b4d",
   "metadata": {
    "papermill": {
     "duration": 0.004079,
     "end_time": "2025-07-24T08:07:48.885585",
     "exception": false,
     "start_time": "2025-07-24T08:07:48.881506",
     "status": "completed"
    },
    "tags": []
   },
   "source": [
    "# Plot Actual vs Predicted Prices"
   ]
  },
  {
   "cell_type": "code",
   "execution_count": 11,
   "id": "f816d378",
   "metadata": {
    "execution": {
     "iopub.execute_input": "2025-07-24T08:07:48.895624Z",
     "iopub.status.busy": "2025-07-24T08:07:48.895272Z",
     "iopub.status.idle": "2025-07-24T08:07:49.382067Z",
     "shell.execute_reply": "2025-07-24T08:07:49.380940Z"
    },
    "papermill": {
     "duration": 0.494997,
     "end_time": "2025-07-24T08:07:49.384811",
     "exception": false,
     "start_time": "2025-07-24T08:07:48.889814",
     "status": "completed"
    },
    "tags": []
   },
   "outputs": [
    {
     "data": {
      "image/png": "[encoded data removed]",
      "text/plain": [
       "<Figure size 1200x600 with 1 Axes>"
      ]
     },
     "metadata": {},
     "output_type": "display_data"
    }
   ],
   "source": [
    "# Plot actual vs predicted prices\n",
    "plt.figure(figsize=(12, 6))\n",
    "plt.plot(test_dates, actual_prices, label='Actual Close Price', color='blue')\n",
    "plt.plot(test_dates, predicted_prices, label='Predicted Close Price', color='orange', linestyle='--')\n",
    "plt.title(f'{ticker} Stock: Actual vs Predicted Closing Prices')\n",
    "plt.xlabel('Date')\n",
    "plt.ylabel('Close Price (USD)')\n",
    "plt.legend()\n",
    "plt.xticks(rotation=45)\n",
    "plt.tight_layout()\n",
    "plt.show()"
   ]
  },
  {
   "cell_type": "markdown",
   "id": "026ba6f1",
   "metadata": {
    "papermill": {
     "duration": 0.005712,
     "end_time": "2025-07-24T08:07:49.397146",
     "exception": false,
     "start_time": "2025-07-24T08:07:49.391434",
     "status": "completed"
    },
    "tags": []
   },
   "source": [
    "# Predict Next Day's Closing Price"
   ]
  },
  {
   "cell_type": "code",
   "execution_count": 12,
   "id": "1bfbec28",
   "metadata": {
    "execution": {
     "iopub.execute_input": "2025-07-24T08:07:49.410711Z",
     "iopub.status.busy": "2025-07-24T08:07:49.410296Z",
     "iopub.status.idle": "2025-07-24T08:07:49.424253Z",
     "shell.execute_reply": "2025-07-24T08:07:49.423212Z"
    },
    "papermill": {
     "duration": 0.023028,
     "end_time": "2025-07-24T08:07:49.425998",
     "exception": false,
     "start_time": "2025-07-24T08:07:49.402970",
     "status": "completed"
    },
    "tags": []
   },
   "outputs": [
    {
     "name": "stdout",
     "output_type": "stream",
     "text": [
      "Predicted closing price for the next trading day: $215.37\n"
     ]
    }
   ],
   "source": [
    "# Predict next day's closing price\n",
    "last_data = data[features].iloc[-1].values.reshape(1, -1)\n",
    "next_day_prediction = model.predict(last_data)\n",
    "print(f'Predicted closing price for the next trading day: ${next_day_prediction[0]:.2f}')"
   ]
  },
  {
   "cell_type": "code",
   "execution_count": null,
   "id": "a84455aa",
   "metadata": {
    "papermill": {
     "duration": 0.00579,
     "end_time": "2025-07-24T08:07:49.438207",
     "exception": false,
     "start_time": "2025-07-24T08:07:49.432417",
     "status": "completed"
    },
    "tags": []
   },
   "outputs": [],
   "source": []
  }
 ],
 "metadata": {
  "kaggle": {
   "accelerator": "none",
   "dataSources": [],
   "dockerImageVersionId": 31089,
   "isGpuEnabled": false,
   "isInternetEnabled": true,
   "language": "python",
   "sourceType": "notebook"
  },
  "kernelspec": {
   "display_name": "Python 3",
   "language": "python",
   "name": "python3"
  },
  "language_info": {
   "codemirror_mode": {
    "name": "ipython",
    "version": 3
   },
   "file_extension": ".py",
   "mimetype": "text/x-python",
   "name": "python",
   "nbconvert_exporter": "python",
   "pygments_lexer": "ipython3",
   "version": "3.11.13"
  },
  "papermill": {
   "default_parameters": {},
   "duration": 15.369198,
   "end_time": "2025-07-24T08:07:50.669305",
   "environment_variables": {},
   "exception": null,
   "input_path": "__notebook__.ipynb",
   "output_path": "__notebook__.ipynb",
   "parameters": {},
   "start_time": "2025-07-24T08:07:35.300107",
   "version": "2.6.0"
  }
 },
 "nbformat": 4,
 "nbformat_minor": 5
}
